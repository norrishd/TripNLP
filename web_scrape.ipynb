{
 "cells": [
  {
   "cell_type": "code",
   "execution_count": 4,
   "metadata": {},
   "outputs": [],
   "source": [
    "import requests\n",
    "from pathlib import Path\n",
    "\n",
    "from bs4 import BeautifulSoup"
   ]
  },
  {
   "cell_type": "code",
   "execution_count": 329,
   "metadata": {},
   "outputs": [],
   "source": [
    "base_url = 'https://www.erowid.org'\n",
    "# S=2 specifies LSD; C=1 specifies general (Vs. first times, combinations, glowing experiences etc)\n",
    "lsd_index_url = 'https://www.erowid.org/experiences/exp.cgi?S=2&C=1&Start=0&Max=1000'\n",
    "# lsd_index_url = 'experiences/subs/exp_LSD_General.shtml'\n",
    "index_html_path = \"base_html.html\""
   ]
  },
  {
   "cell_type": "code",
   "execution_count": 266,
   "metadata": {},
   "outputs": [],
   "source": [
    "if Path(index_html_path).exists():\n",
    "    with open(index_html_path, 'r') as fhand:\n",
    "        html_doc = fhand.read()\n",
    "else:\n",
    "    request = requests.get(lsd_index_url, auth=('user', 'pass'))\n",
    "    request.status_code\n",
    "    html_doc = request.text\n",
    "    with open(index_html_path, 'w') as fhand:\n",
    "        fhand.write(html_doc)"
   ]
  },
  {
   "cell_type": "code",
   "execution_count": 268,
   "metadata": {},
   "outputs": [
    {
     "name": "stdout",
     "output_type": "stream",
     "text": [
      "<html>\n",
      " <head>\n",
      "  <title>\n",
      "   LSD Reports - General : Erowid Experience Vaults\n",
      "  </title>\n",
      "  <meta content=\"Erowid Experience Vaults: An Experience\" name=\"description\"/>\n",
      "  <meta content=\"Experience Report Vaults, trip reports, stories, descriptions\" name=\"keywords\"/>\n",
      "  <link href=\"/includes/general_default.css\" rel=\"stylesheet\" type=\"text/css\"/>\n",
      "  <link href=\"includes/exp.css\" rel=\"stylesheet\" type=\"text/css\"/>\n",
      "  <!-- Sperowider <noindex/> -->\n",
      " </head>\n",
      " <body alink=\"#008080\" bgcolor=\"#000000\" link=\n"
     ]
    }
   ],
   "source": [
    "# soup = BeautifulSoup(html_doc, 'html.parser')\n",
    "soup = BeautifulSoup(html_doc, 'lxml')\n",
    "print(soup.prettify()[:500])"
   ]
  },
  {
   "cell_type": "code",
   "execution_count": 269,
   "metadata": {},
   "outputs": [],
   "source": [
    "tables = soup.find_all('table')\n",
    "\n",
    "# We want the third table (which is actually nested in the second)\n",
    "table = tables[2]"
   ]
  },
  {
   "cell_type": "code",
   "execution_count": 285,
   "metadata": {},
   "outputs": [
    {
     "data": {
      "text/plain": [
       "['\\n', <tr height=\"10\">\n",
       " <th width=\"75\"><input onclick=\"SortBy('RA');\" type=\"Button\" value=\"Rating\"/><img src=\"/experiences/images/arrow_down.jpg\"/></th>\n",
       " <th width=\"230\"><input onclick=\"SortBy('TA');\" type=\"Button\" value=\" Title\"/></th>\n",
       " <th width=\"105\"><input onclick=\"SortBy('AA');\" type=\"Button\" value=\" Author \"/></th>\n",
       " <th width=\"150\"><input onclick=\"SortBy('SA');\" type=\"Button\" value=\"Substance\"/></th>\n",
       " <th width=\"85\"><input onclick=\"SortBy('PDD');\" type=\"Button\" value=\"Pub Date\"/><img src=\"/experiences/images/arrow_down.jpg\"/></th>\n",
       " </tr>, '\\n', <tr height=\"8\"><th colspan=\"5\"></th></tr>, '\\n', <tr class=\"\"><td> <img align=\"right\" alt=\"Very Highly Recommended\" border=\"0\" src=\"images/exp_star_3.gif\"/></td><td><a href=\"exp.php?ID=89042\">Some Growing Up to Do</a></td><td>thingummajig</td><td>MDMA, LSD &amp; Cannabis</td><td align=\"right\">Feb 2 2012</td>\n",
       " </tr>]"
      ]
     },
     "execution_count": 285,
     "metadata": {},
     "output_type": "execute_result"
    }
   ],
   "source": [
    "list(table.children)[:6]"
   ]
  },
  {
   "cell_type": "code",
   "execution_count": 292,
   "metadata": {},
   "outputs": [],
   "source": [
    "# Get all rows of this table\n",
    "rows = table.find_all('tr')"
   ]
  },
  {
   "cell_type": "code",
   "execution_count": 287,
   "metadata": {},
   "outputs": [
    {
     "data": {
      "text/plain": [
       "[<th width=\"75\"><input onclick=\"SortBy('RA');\" type=\"Button\" value=\"Rating\"/><img src=\"/experiences/images/arrow_down.jpg\"/></th>,\n",
       " <th width=\"230\"><input onclick=\"SortBy('TA');\" type=\"Button\" value=\" Title\"/></th>,\n",
       " <th width=\"105\"><input onclick=\"SortBy('AA');\" type=\"Button\" value=\" Author \"/></th>,\n",
       " <th width=\"150\"><input onclick=\"SortBy('SA');\" type=\"Button\" value=\"Substance\"/></th>,\n",
       " <th width=\"85\"><input onclick=\"SortBy('PDD');\" type=\"Button\" value=\"Pub Date\"/><img src=\"/experiences/images/arrow_down.jpg\"/></th>]"
      ]
     },
     "execution_count": 287,
     "metadata": {},
     "output_type": "execute_result"
    }
   ],
   "source": [
    "# First row is the headers - we will retrieve the header values\n",
    "headers = rows[0].find_all('th')\n",
    "headers"
   ]
  },
  {
   "cell_type": "code",
   "execution_count": 288,
   "metadata": {},
   "outputs": [
    {
     "data": {
      "text/plain": [
       "['Rating', 'Title', 'Author', 'Substance', 'Pub Date']"
      ]
     },
     "execution_count": 288,
     "metadata": {},
     "output_type": "execute_result"
    }
   ],
   "source": [
    "col_names = [th.input['value'].strip() for th in headers]\n",
    "col_names"
   ]
  },
  {
   "cell_type": "code",
   "execution_count": 301,
   "metadata": {},
   "outputs": [
    {
     "data": {
      "text/plain": [
       "<tr class=\"\"><td> <img align=\"right\" alt=\"Very Highly Recommended\" border=\"0\" src=\"images/exp_star_3.gif\"/></td><td><a href=\"exp.php?ID=89042\">Some Growing Up to Do</a></td><td>thingummajig</td><td>MDMA, LSD &amp; Cannabis</td><td align=\"right\">Feb 2 2012</td>\n",
       "</tr>"
      ]
     },
     "execution_count": 301,
     "metadata": {},
     "output_type": "execute_result"
    }
   ],
   "source": [
    "rows[0]"
   ]
  },
  {
   "cell_type": "code",
   "execution_count": 300,
   "metadata": {},
   "outputs": [],
   "source": [
    "# Iterate through the remaining rows - 2nd row is empty\n",
    "rows = rows[2:]"
   ]
  },
  {
   "cell_type": "code",
   "execution_count": 302,
   "metadata": {},
   "outputs": [],
   "source": [
    "all_links = []\n",
    "\n",
    "for row in rows:\n",
    "    entry = {}\n",
    "    # Get all cells of the row\n",
    "    for i, td in enumerate(row.find_all('td')):\n",
    "        entry[col_names[i]] = td.text\n",
    "        # If link included, add that to dict\n",
    "        if td.find('a') is not None:\n",
    "            entry['href'] = td.find('a').get('href')\n",
    "    all_links.append(entry)"
   ]
  },
  {
   "cell_type": "code",
   "execution_count": 303,
   "metadata": {},
   "outputs": [
    {
     "data": {
      "text/plain": [
       "648"
      ]
     },
     "execution_count": 303,
     "metadata": {},
     "output_type": "execute_result"
    }
   ],
   "source": [
    "len(all_links)"
   ]
  },
  {
   "cell_type": "code",
   "execution_count": 312,
   "metadata": {},
   "outputs": [
    {
     "data": {
      "text/plain": [
       "[{'Rating': ' ',\n",
       "  'Title': 'Some Growing Up to Do',\n",
       "  'href': 'exp.php?ID=89042',\n",
       "  'Author': 'thingummajig',\n",
       "  'Substance': 'MDMA, LSD & Cannabis',\n",
       "  'Pub Date': 'Feb 2 2012'},\n",
       " {'Rating': ' ',\n",
       "  'Title': 'My Minidose Manifesto',\n",
       "  'href': 'exp.php?ID=112505',\n",
       "  'Author': 'Uncle Iroh',\n",
       "  'Substance': 'LSD',\n",
       "  'Pub Date': 'Oct 26 2018'},\n",
       " {'Rating': ' ',\n",
       "  'Title': 'The Colossus',\n",
       "  'href': 'exp.php?ID=112152',\n",
       "  'Author': 'nervewing',\n",
       "  'Substance': 'Memantine, 3-MEO-PCE, LSD, 4-AcO-MiPT, 4-HO-MET, 2C-C, Clonazepam & Aripiprazole',\n",
       "  'Pub Date': 'Aug 4 2018'}]"
      ]
     },
     "execution_count": 312,
     "metadata": {},
     "output_type": "execute_result"
    }
   ],
   "source": [
    "all_links[:3]"
   ]
  },
  {
   "cell_type": "markdown",
   "metadata": {},
   "source": [
    "Many reviews seem to include multiple drugs, e.g. the first review includes cannabis, and the third review would appear to include memantine, 3-MEO-PCE and a bunch of things. We'll restrict to just the pure LSD reviews."
   ]
  },
  {
   "cell_type": "code",
   "execution_count": 307,
   "metadata": {},
   "outputs": [],
   "source": [
    "lsd_only = [ent for ent in all_links if ent['Substance'] == 'LSD']"
   ]
  },
  {
   "cell_type": "code",
   "execution_count": 308,
   "metadata": {},
   "outputs": [
    {
     "data": {
      "text/plain": [
       "433"
      ]
     },
     "execution_count": 308,
     "metadata": {},
     "output_type": "execute_result"
    }
   ],
   "source": [
    "len(lsd_only)"
   ]
  },
  {
   "cell_type": "code",
   "execution_count": 313,
   "metadata": {},
   "outputs": [
    {
     "data": {
      "text/plain": [
       "[{'Rating': ' ',\n",
       "  'Title': 'My Minidose Manifesto',\n",
       "  'href': 'exp.php?ID=112505',\n",
       "  'Author': 'Uncle Iroh',\n",
       "  'Substance': 'LSD',\n",
       "  'Pub Date': 'Oct 26 2018'},\n",
       " {'Rating': ' ',\n",
       "  'Title': 'Physics at the Edge of the Universe',\n",
       "  'href': 'exp.php?ID=69866',\n",
       "  'Author': 'Spooky',\n",
       "  'Substance': 'LSD',\n",
       "  'Pub Date': 'Apr 19 2016'},\n",
       " {'Rating': ' ',\n",
       "  'Title': 'Somatic Vision and Cosmic Consciousness',\n",
       "  'href': 'exp.php?ID=77462',\n",
       "  'Author': 'Lokapalas',\n",
       "  'Substance': 'LSD',\n",
       "  'Pub Date': 'Nov 28 2013'}]"
      ]
     },
     "execution_count": 313,
     "metadata": {},
     "output_type": "execute_result"
    }
   ],
   "source": [
    "lsd_only[:3]"
   ]
  },
  {
   "cell_type": "code",
   "execution_count": 335,
   "metadata": {},
   "outputs": [
    {
     "name": "stdout",
     "output_type": "stream",
     "text": [
      "1. My Minidose Manifesto\n",
      "2. Physics at the Edge of the Universe\n",
      "3. Somatic Vision and Cosmic Consciousness\n",
      "4. LSD Microdosing RCT\n",
      "5. It Can Be Whatever I Want It to Be\n",
      "6. Arrested\n",
      "7. So Sure I Could Handle It\n",
      "8. Sipping on the World Syrup\n",
      "9. A Life Cycle\n",
      "10. Breakthrough on Bicycle Day\n"
     ]
    }
   ],
   "source": [
    "for i in range(10):\n",
    "    print(f\"{i + 1}. {lsd_only[i]['Title']}\")"
   ]
  },
  {
   "cell_type": "code",
   "execution_count": 330,
   "metadata": {},
   "outputs": [],
   "source": [
    "url_to_grab = base_url + '/experiences/' + 'exp.php?ID=112505'\n",
    "url_to_grab"
   ]
  },
  {
   "cell_type": "code",
   "execution_count": 336,
   "metadata": {},
   "outputs": [],
   "source": [
    "request = requests.get(url_to_grab, auth=('user', 'pass'))"
   ]
  },
  {
   "cell_type": "code",
   "execution_count": 339,
   "metadata": {},
   "outputs": [
    {
     "name": "stdout",
     "output_type": "stream",
     "text": [
      "<html>\n",
      " <head>\n",
      "  <title>\n",
      "   LSD - Erowid Exp - 'My Minidose Manifesto'\n",
      "  </title>\n",
      "  <meta content=\"An Experience with LSD. 'My Minidose Manifesto' by Uncle Iroh\" name=\"description\"/>\n",
      "  <meta content=\"Experience Report Vaults drug trip reports stories descriptions\" name=\"keywords\"/>\n",
      "  <link href=\"/includes/general_default.css\" rel=\"stylesheet\" type=\"text/css\"/>\n",
      "  <link href=\"includes/exp_view.css\" id=\"main_css\" rel=\"stylesheet\" type=\"text/css\"/>\n",
      "  <link href=\"includes/exp_view_light_on_dark.css\" \n"
     ]
    }
   ],
   "source": [
    "html = BeautifulSoup(request.text, 'lxml')\n",
    "print(html.prettify()[:500])"
   ]
  },
  {
   "cell_type": "code",
   "execution_count": 343,
   "metadata": {},
   "outputs": [
    {
     "data": {
      "text/plain": [
       "15"
      ]
     },
     "execution_count": 343,
     "metadata": {},
     "output_type": "execute_result"
    }
   ],
   "source": [
    "divs = html.find_all('div')\n",
    "len(divs)"
   ]
  },
  {
   "cell_type": "code",
   "execution_count": 354,
   "metadata": {},
   "outputs": [
    {
     "data": {
      "text/plain": [
       "dict_keys(['title', 'substance', 'author', 'main'])"
      ]
     },
     "execution_count": 354,
     "metadata": {},
     "output_type": "execute_result"
    }
   ],
   "source": [
    "dicty = {}\n",
    "for div in divs:\n",
    "    if 'class' in div.attrs:\n",
    "        # Returns class as list, to allow multi-classes\n",
    "        if 'title' in div['class']:\n",
    "            dicty['title'] = div.text\n",
    "        elif 'substance' in div['class']:\n",
    "            dicty['substance'] = div.text\n",
    "        elif 'author' in div['class']:\n",
    "            dicty['author'] = div.a.text\n",
    "        # Main body or report stored here\n",
    "        elif 'report-text-surround' in div['class']:\n",
    "            dicty['main'] = div\n",
    "        \n",
    "dicty.keys()"
   ]
  },
  {
   "cell_type": "code",
   "execution_count": 360,
   "metadata": {},
   "outputs": [
    {
     "data": {
      "text/plain": [
       "{'Rating': ' ',\n",
       " 'Title': 'My Minidose Manifesto',\n",
       " 'href': 'exp.php?ID=112505',\n",
       " 'Author': 'Uncle Iroh',\n",
       " 'Substance': 'LSD',\n",
       " 'Pub Date': 'Oct 26 2018'}"
      ]
     },
     "execution_count": 360,
     "metadata": {},
     "output_type": "execute_result"
    }
   ],
   "source": [
    "lsd_only[0]"
   ]
  },
  {
   "cell_type": "code",
   "execution_count": 364,
   "metadata": {},
   "outputs": [
    {
     "data": {
      "text/plain": [
       "'My Minidose Manifesto'"
      ]
     },
     "metadata": {},
     "output_type": "display_data"
    },
    {
     "data": {
      "text/plain": [
       "'Uncle Iroh'"
      ]
     },
     "metadata": {},
     "output_type": "display_data"
    },
    {
     "data": {
      "text/plain": [
       "'LSD'"
      ]
     },
     "metadata": {},
     "output_type": "display_data"
    }
   ],
   "source": [
    "display(dicty['title'])\n",
    "display(dicty['author'])\n",
    "display(dicty['substance'])"
   ]
  },
  {
   "cell_type": "markdown",
   "metadata": {},
   "source": [
    "Good, looks like we have the correct review."
   ]
  },
  {
   "cell_type": "code",
   "execution_count": 355,
   "metadata": {},
   "outputs": [],
   "source": [
    "main = dicty['main']"
   ]
  },
  {
   "cell_type": "code",
   "execution_count": 357,
   "metadata": {},
   "outputs": [],
   "source": [
    "tables = main.find_all('table')"
   ]
  },
  {
   "cell_type": "code",
   "execution_count": 359,
   "metadata": {},
   "outputs": [
    {
     "data": {
      "text/plain": [
       "<table border=\"2\" bordercolor=\"#224422\" cellpadding=\"4\" cellspacing=\"0\" class=\"dosechart\">\n",
       "<tr>\n",
       "<td align=\"right\" width=\"90\">DOSE:<br/></td>\n",
       "<td align=\"center\" class=\"dosechart-amount\" width=\"90\">10-15 ug</td>\n",
       "<td align=\"center\" class=\"dosechart-method\">oral</td>\n",
       "<td class=\"dosechart-substance\"><a href=\"/chemicals/lsd/\">LSD</a></td>\n",
       "<td class=\"dosechart-form\"><b>(blotter / tab)</b></td>\n",
       "</tr>\n",
       "</table>"
      ]
     },
     "execution_count": 359,
     "metadata": {},
     "output_type": "execute_result"
    }
   ],
   "source": [
    "# First table doesn't seem to have anything\n",
    "# Second table has dose and other info\n",
    "tables[1]"
   ]
  },
  {
   "cell_type": "code",
   "execution_count": null,
   "metadata": {},
   "outputs": [],
   "source": []
  },
  {
   "cell_type": "code",
   "execution_count": null,
   "metadata": {},
   "outputs": [],
   "source": []
  },
  {
   "cell_type": "code",
   "execution_count": null,
   "metadata": {},
   "outputs": [],
   "source": []
  },
  {
   "cell_type": "code",
   "execution_count": null,
   "metadata": {},
   "outputs": [],
   "source": []
  },
  {
   "cell_type": "code",
   "execution_count": null,
   "metadata": {},
   "outputs": [],
   "source": []
  }
 ],
 "metadata": {
  "kernelspec": {
   "display_name": "Python 3",
   "language": "python",
   "name": "python3"
  },
  "language_info": {
   "codemirror_mode": {
    "name": "ipython",
    "version": 3
   },
   "file_extension": ".py",
   "mimetype": "text/x-python",
   "name": "python",
   "nbconvert_exporter": "python",
   "pygments_lexer": "ipython3",
   "version": "3.7.1"
  }
 },
 "nbformat": 4,
 "nbformat_minor": 2
}
