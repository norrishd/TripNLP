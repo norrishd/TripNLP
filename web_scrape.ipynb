{
 "cells": [
  {
   "cell_type": "code",
   "execution_count": 285,
   "metadata": {},
   "outputs": [],
   "source": [
    "import requests\n",
    "from pathlib import Path\n",
    "\n",
    "from bs4 import BeautifulSoup, Tag, Comment, NavigableString\n",
    "import pandas as pd"
   ]
  },
  {
   "cell_type": "code",
   "execution_count": 2,
   "metadata": {},
   "outputs": [],
   "source": [
    "base_url = 'https://www.erowid.org'\n",
    "# S=2 specifies LSD; C=1 specifies general (Vs. first times, combinations, glowing experiences etc)\n",
    "lsd_index_url = 'https://www.erowid.org/experiences/exp.cgi?S=2&C=1&Start=0&Max=1000'\n",
    "# lsd_index_url = 'experiences/subs/exp_LSD_General.shtml'\n",
    "index_html_path = \"base_html.html\""
   ]
  },
  {
   "cell_type": "code",
   "execution_count": 22,
   "metadata": {},
   "outputs": [],
   "source": [
    "def get_html(url, save_path=None, force_overwrite=False):\n",
    "    \"\"\"\n",
    "    Scrape HTML data from a URL. If already scraped, don't re-query.\n",
    "    \"\"\"\n",
    "\n",
    "    if save_path is not None and Path(save_path).exists() and not force_overwrite:\n",
    "        with open(save_path, 'r') as fhand:\n",
    "            return fhand.read()\n",
    "    else:\n",
    "        request = requests.get(url, auth=('user', 'pass'))\n",
    "        print(\"Status code:\", request.status_code)\n",
    "        html_doc = request.text\n",
    "        if save_path is not None:\n",
    "            with open(save_path, 'w') as fhand:\n",
    "                fhand.write(html_doc)\n",
    "        return html_doc"
   ]
  },
  {
   "cell_type": "code",
   "execution_count": 24,
   "metadata": {},
   "outputs": [],
   "source": [
    "lsd_index_html = get_html(lsd_index_url, index_html_path)"
   ]
  },
  {
   "cell_type": "code",
   "execution_count": 4,
   "metadata": {},
   "outputs": [
    {
     "name": "stdout",
     "output_type": "stream",
     "text": [
      "<html>\n",
      " <head>\n",
      "  <title>\n",
      "   LSD Reports - General : Erowid Experience Vaults\n",
      "  </title>\n",
      "  <meta content=\"Erowid Experience Vaults: An Experience\" name=\"description\"/>\n",
      "  <meta content=\"Experience Report Vaults, trip reports, stories, descriptions\" name=\"keywords\"/>\n",
      "  <link href=\"/includes/general_default.css\" rel=\"stylesheet\" type=\"text/css\"/>\n",
      "  <link href=\"includes/exp.css\" rel=\"stylesheet\" type=\"text/css\"/>\n",
      "  <!-- Sperowider <noindex/> -->\n",
      " </head>\n",
      " <body alink=\"#008080\" bgcolor=\"#000000\" link=\n"
     ]
    }
   ],
   "source": [
    "# soup = BeautifulSoup(html_doc, 'html.parser')\n",
    "soup = BeautifulSoup(lsd_index_html, 'lxml')\n",
    "print(soup.prettify()[:500])"
   ]
  },
  {
   "cell_type": "code",
   "execution_count": 5,
   "metadata": {},
   "outputs": [],
   "source": [
    "tables = soup.find_all('table')\n",
    "\n",
    "# We want the third table (which is actually nested in the second)\n",
    "table = tables[2]"
   ]
  },
  {
   "cell_type": "code",
   "execution_count": 6,
   "metadata": {},
   "outputs": [
    {
     "data": {
      "text/plain": [
       "['\\n', <tr height=\"10\">\n",
       " <th width=\"75\"><input onclick=\"SortBy('RA');\" type=\"Button\" value=\"Rating\"/><img src=\"/experiences/images/arrow_down.jpg\"/></th>\n",
       " <th width=\"230\"><input onclick=\"SortBy('TA');\" type=\"Button\" value=\" Title\"/></th>\n",
       " <th width=\"105\"><input onclick=\"SortBy('AA');\" type=\"Button\" value=\" Author \"/></th>\n",
       " <th width=\"150\"><input onclick=\"SortBy('SA');\" type=\"Button\" value=\"Substance\"/></th>\n",
       " <th width=\"85\"><input onclick=\"SortBy('PDD');\" type=\"Button\" value=\"Pub Date\"/><img src=\"/experiences/images/arrow_down.jpg\"/></th>\n",
       " </tr>, '\\n', <tr height=\"8\"><th colspan=\"5\"></th></tr>, '\\n', <tr class=\"\"><td> <img align=\"right\" alt=\"Very Highly Recommended\" border=\"0\" src=\"images/exp_star_3.gif\"/></td><td><a href=\"exp.php?ID=89042\">Some Growing Up to Do</a></td><td>thingummajig</td><td>MDMA, LSD &amp; Cannabis</td><td align=\"right\">Feb 2 2012</td>\n",
       " </tr>]"
      ]
     },
     "execution_count": 6,
     "metadata": {},
     "output_type": "execute_result"
    }
   ],
   "source": [
    "list(table.children)[:6]"
   ]
  },
  {
   "cell_type": "code",
   "execution_count": 7,
   "metadata": {},
   "outputs": [],
   "source": [
    "# Get all rows of this table\n",
    "rows = table.find_all('tr')"
   ]
  },
  {
   "cell_type": "code",
   "execution_count": 8,
   "metadata": {},
   "outputs": [
    {
     "data": {
      "text/plain": [
       "[<th width=\"75\"><input onclick=\"SortBy('RA');\" type=\"Button\" value=\"Rating\"/><img src=\"/experiences/images/arrow_down.jpg\"/></th>,\n",
       " <th width=\"230\"><input onclick=\"SortBy('TA');\" type=\"Button\" value=\" Title\"/></th>,\n",
       " <th width=\"105\"><input onclick=\"SortBy('AA');\" type=\"Button\" value=\" Author \"/></th>,\n",
       " <th width=\"150\"><input onclick=\"SortBy('SA');\" type=\"Button\" value=\"Substance\"/></th>,\n",
       " <th width=\"85\"><input onclick=\"SortBy('PDD');\" type=\"Button\" value=\"Pub Date\"/><img src=\"/experiences/images/arrow_down.jpg\"/></th>]"
      ]
     },
     "execution_count": 8,
     "metadata": {},
     "output_type": "execute_result"
    }
   ],
   "source": [
    "# First row is the headers - we will retrieve the header values\n",
    "headers = rows[0].find_all('th')\n",
    "headers"
   ]
  },
  {
   "cell_type": "code",
   "execution_count": 9,
   "metadata": {},
   "outputs": [
    {
     "data": {
      "text/plain": [
       "['Rating', 'Title', 'Author', 'Substance', 'Pub Date']"
      ]
     },
     "execution_count": 9,
     "metadata": {},
     "output_type": "execute_result"
    }
   ],
   "source": [
    "col_names = [th.input['value'].strip() for th in headers]\n",
    "col_names"
   ]
  },
  {
   "cell_type": "code",
   "execution_count": 10,
   "metadata": {},
   "outputs": [
    {
     "data": {
      "text/plain": [
       "<tr height=\"10\">\n",
       "<th width=\"75\"><input onclick=\"SortBy('RA');\" type=\"Button\" value=\"Rating\"/><img src=\"/experiences/images/arrow_down.jpg\"/></th>\n",
       "<th width=\"230\"><input onclick=\"SortBy('TA');\" type=\"Button\" value=\" Title\"/></th>\n",
       "<th width=\"105\"><input onclick=\"SortBy('AA');\" type=\"Button\" value=\" Author \"/></th>\n",
       "<th width=\"150\"><input onclick=\"SortBy('SA');\" type=\"Button\" value=\"Substance\"/></th>\n",
       "<th width=\"85\"><input onclick=\"SortBy('PDD');\" type=\"Button\" value=\"Pub Date\"/><img src=\"/experiences/images/arrow_down.jpg\"/></th>\n",
       "</tr>"
      ]
     },
     "execution_count": 10,
     "metadata": {},
     "output_type": "execute_result"
    }
   ],
   "source": [
    "rows[0]"
   ]
  },
  {
   "cell_type": "code",
   "execution_count": 11,
   "metadata": {},
   "outputs": [],
   "source": [
    "# Iterate through the remaining rows - 2nd row is empty\n",
    "rows = rows[2:]"
   ]
  },
  {
   "cell_type": "code",
   "execution_count": 302,
   "metadata": {},
   "outputs": [],
   "source": [
    "all_links = []\n",
    "\n",
    "for row in rows:\n",
    "    entry = {}\n",
    "    # Get all cells of the row\n",
    "    for i, td in enumerate(row.find_all('td')):\n",
    "        # The first column has an image child elem\n",
    "        # of stars indicating recommendation level\n",
    "        if td.find('img') is not None:\n",
    "            entry[col_names[i]] = td.img['alt']\n",
    "        # For all other rows, just want the text\n",
    "        else:\n",
    "            entry[col_names[i]] = td.text\n",
    "        # If link included, add that to dict\n",
    "        if td.find('a') is not None:\n",
    "            entry['href'] = td.find('a').get('href')\n",
    "    all_links.append(entry)"
   ]
  },
  {
   "cell_type": "code",
   "execution_count": 303,
   "metadata": {},
   "outputs": [
    {
     "data": {
      "text/plain": [
       "648"
      ]
     },
     "execution_count": 303,
     "metadata": {},
     "output_type": "execute_result"
    }
   ],
   "source": [
    "len(all_links)"
   ]
  },
  {
   "cell_type": "code",
   "execution_count": 304,
   "metadata": {},
   "outputs": [
    {
     "data": {
      "text/plain": [
       "[{'Rating': 'Very Highly Recommended',\n",
       "  'Title': 'Some Growing Up to Do',\n",
       "  'href': 'exp.php?ID=89042',\n",
       "  'Author': 'thingummajig',\n",
       "  'Substance': 'MDMA, LSD & Cannabis',\n",
       "  'Pub Date': 'Feb 2 2012'},\n",
       " {'Rating': 'Highly Recommended',\n",
       "  'Title': 'My Minidose Manifesto',\n",
       "  'href': 'exp.php?ID=112505',\n",
       "  'Author': 'Uncle Iroh',\n",
       "  'Substance': 'LSD',\n",
       "  'Pub Date': 'Oct 26 2018'},\n",
       " {'Rating': 'Highly Recommended',\n",
       "  'Title': 'The Colossus',\n",
       "  'href': 'exp.php?ID=112152',\n",
       "  'Author': 'nervewing',\n",
       "  'Substance': 'Memantine, 3-MEO-PCE, LSD, 4-AcO-MiPT, 4-HO-MET, 2C-C, Clonazepam & Aripiprazole',\n",
       "  'Pub Date': 'Aug 4 2018'}]"
      ]
     },
     "execution_count": 304,
     "metadata": {},
     "output_type": "execute_result"
    }
   ],
   "source": [
    "all_links[:3]"
   ]
  },
  {
   "cell_type": "markdown",
   "metadata": {},
   "source": [
    "Many reviews seem to include multiple drugs, e.g. the first review includes cannabis, and the third review would appear to include memantine, 3-MEO-PCE and a bunch of things. We'll restrict to just the pure LSD reviews."
   ]
  },
  {
   "cell_type": "code",
   "execution_count": 305,
   "metadata": {},
   "outputs": [],
   "source": [
    "lsd_only = [ent for ent in all_links if ent['Substance'] == 'LSD']"
   ]
  },
  {
   "cell_type": "code",
   "execution_count": 306,
   "metadata": {},
   "outputs": [
    {
     "data": {
      "text/plain": [
       "433"
      ]
     },
     "execution_count": 306,
     "metadata": {},
     "output_type": "execute_result"
    }
   ],
   "source": [
    "len(lsd_only)"
   ]
  },
  {
   "cell_type": "code",
   "execution_count": 309,
   "metadata": {},
   "outputs": [
    {
     "data": {
      "text/html": [
       "<div>\n",
       "<style scoped>\n",
       "    .dataframe tbody tr th:only-of-type {\n",
       "        vertical-align: middle;\n",
       "    }\n",
       "\n",
       "    .dataframe tbody tr th {\n",
       "        vertical-align: top;\n",
       "    }\n",
       "\n",
       "    .dataframe thead th {\n",
       "        text-align: right;\n",
       "    }\n",
       "</style>\n",
       "<table border=\"1\" class=\"dataframe\">\n",
       "  <thead>\n",
       "    <tr style=\"text-align: right;\">\n",
       "      <th></th>\n",
       "      <th>Author</th>\n",
       "      <th>Pub Date</th>\n",
       "      <th>Rating</th>\n",
       "      <th>Substance</th>\n",
       "      <th>Title</th>\n",
       "      <th>href</th>\n",
       "    </tr>\n",
       "  </thead>\n",
       "  <tbody>\n",
       "    <tr>\n",
       "      <th>0</th>\n",
       "      <td>Uncle Iroh</td>\n",
       "      <td>Oct 26 2018</td>\n",
       "      <td>Highly Recommended</td>\n",
       "      <td>LSD</td>\n",
       "      <td>My Minidose Manifesto</td>\n",
       "      <td>exp.php?ID=112505</td>\n",
       "    </tr>\n",
       "    <tr>\n",
       "      <th>1</th>\n",
       "      <td>Spooky</td>\n",
       "      <td>Apr 19 2016</td>\n",
       "      <td>Highly Recommended</td>\n",
       "      <td>LSD</td>\n",
       "      <td>Physics at the Edge of the Universe</td>\n",
       "      <td>exp.php?ID=69866</td>\n",
       "    </tr>\n",
       "    <tr>\n",
       "      <th>2</th>\n",
       "      <td>Lokapalas</td>\n",
       "      <td>Nov 28 2013</td>\n",
       "      <td>Highly Recommended</td>\n",
       "      <td>LSD</td>\n",
       "      <td>Somatic Vision and Cosmic Consciousness</td>\n",
       "      <td>exp.php?ID=77462</td>\n",
       "    </tr>\n",
       "    <tr>\n",
       "      <th>3</th>\n",
       "      <td>Gwern.net</td>\n",
       "      <td>Oct 23 2013</td>\n",
       "      <td>Highly Recommended</td>\n",
       "      <td>LSD</td>\n",
       "      <td>LSD Microdosing RCT</td>\n",
       "      <td>exp.php?ID=101638</td>\n",
       "    </tr>\n",
       "    <tr>\n",
       "      <th>4</th>\n",
       "      <td>triptacular</td>\n",
       "      <td>Dec 4 2012</td>\n",
       "      <td>Highly Recommended</td>\n",
       "      <td>LSD</td>\n",
       "      <td>It Can Be Whatever I Want It to Be</td>\n",
       "      <td>exp.php?ID=88486</td>\n",
       "    </tr>\n",
       "  </tbody>\n",
       "</table>\n",
       "</div>"
      ],
      "text/plain": [
       "        Author     Pub Date              Rating Substance  \\\n",
       "0   Uncle Iroh  Oct 26 2018  Highly Recommended       LSD   \n",
       "1       Spooky  Apr 19 2016  Highly Recommended       LSD   \n",
       "2    Lokapalas  Nov 28 2013  Highly Recommended       LSD   \n",
       "3    Gwern.net  Oct 23 2013  Highly Recommended       LSD   \n",
       "4  triptacular   Dec 4 2012  Highly Recommended       LSD   \n",
       "\n",
       "                                     Title               href  \n",
       "0                    My Minidose Manifesto  exp.php?ID=112505  \n",
       "1      Physics at the Edge of the Universe   exp.php?ID=69866  \n",
       "2  Somatic Vision and Cosmic Consciousness   exp.php?ID=77462  \n",
       "3                      LSD Microdosing RCT  exp.php?ID=101638  \n",
       "4       It Can Be Whatever I Want It to Be   exp.php?ID=88486  "
      ]
     },
     "execution_count": 309,
     "metadata": {},
     "output_type": "execute_result"
    }
   ],
   "source": [
    "df = pd.DataFrame(lsd_only)\n",
    "df.head()"
   ]
  },
  {
   "cell_type": "code",
   "execution_count": 308,
   "metadata": {},
   "outputs": [],
   "source": [
    "df.to_csv('lsd_metadata.csv', index=None)"
   ]
  },
  {
   "cell_type": "code",
   "execution_count": 18,
   "metadata": {},
   "outputs": [
    {
     "name": "stdout",
     "output_type": "stream",
     "text": [
      "1. My Minidose Manifesto\n",
      "2. Physics at the Edge of the Universe\n",
      "3. Somatic Vision and Cosmic Consciousness\n",
      "4. LSD Microdosing RCT\n",
      "5. It Can Be Whatever I Want It to Be\n",
      "6. Arrested\n",
      "7. So Sure I Could Handle It\n",
      "8. Sipping on the World Syrup\n",
      "9. A Life Cycle\n",
      "10. Breakthrough on Bicycle Day\n"
     ]
    }
   ],
   "source": [
    "for i in range(10):\n",
    "    print(f\"{i + 1}. {lsd_only[i]['Title']}\")"
   ]
  },
  {
   "cell_type": "code",
   "execution_count": 25,
   "metadata": {},
   "outputs": [
    {
     "data": {
      "text/plain": [
       "'https://www.erowid.org/experiences/exp.php?ID=112505'"
      ]
     },
     "execution_count": 25,
     "metadata": {},
     "output_type": "execute_result"
    }
   ],
   "source": [
    "url_to_grab = base_url + '/experiences/' + lsd_only[0]['href']\n",
    "url_to_grab"
   ]
  },
  {
   "cell_type": "code",
   "execution_count": 26,
   "metadata": {},
   "outputs": [
    {
     "name": "stdout",
     "output_type": "stream",
     "text": [
      "Status code: 200\n"
     ]
    }
   ],
   "source": [
    "trip1_html = get_html(url_to_grab, '112505.html')"
   ]
  },
  {
   "cell_type": "code",
   "execution_count": 27,
   "metadata": {},
   "outputs": [
    {
     "name": "stdout",
     "output_type": "stream",
     "text": [
      "<html>\n",
      " <head>\n",
      "  <title>\n",
      "   LSD - Erowid Exp - 'My Minidose Manifesto'\n",
      "  </title>\n",
      "  <meta content=\"An Experience with LSD. 'My Minidose Manifesto' by Uncle Iroh\" name=\"description\"/>\n",
      "  <meta content=\"Experience Report Vaults drug trip reports stories descriptions\" name=\"keywords\"/>\n",
      "  <link href=\"/includes/general_default.css\" rel=\"stylesheet\" type=\"text/css\"/>\n",
      "  <link href=\"includes/exp_view.css\" id=\"main_css\" rel=\"stylesheet\" type=\"text/css\"/>\n",
      "  <link href=\"includes/exp_view_light_on_dark.css\" \n"
     ]
    }
   ],
   "source": [
    "trip1 = BeautifulSoup(trip1_html, 'lxml')\n",
    "print(trip1.prettify()[:500])"
   ]
  },
  {
   "cell_type": "code",
   "execution_count": 28,
   "metadata": {},
   "outputs": [
    {
     "data": {
      "text/plain": [
       "15"
      ]
     },
     "execution_count": 28,
     "metadata": {},
     "output_type": "execute_result"
    }
   ],
   "source": [
    "divs = trip1.find_all('div')\n",
    "len(divs)"
   ]
  },
  {
   "cell_type": "code",
   "execution_count": 72,
   "metadata": {},
   "outputs": [
    {
     "data": {
      "text/plain": [
       "dict_keys(['title', 'substance', 'author'])"
      ]
     },
     "execution_count": 72,
     "metadata": {},
     "output_type": "execute_result"
    }
   ],
   "source": [
    "# Kind of annoying HTML on page. Several <divs> with classes have key info\n",
    "# Then a div has several tables and the main text\n",
    "\n",
    "trip_info = {}\n",
    "for div in divs:\n",
    "    if 'class' in div.attrs:\n",
    "        # Returns class as list, to allow multi-classes\n",
    "        if 'title' in div['class']:\n",
    "            trip_info['title'] = div.text\n",
    "        elif 'substance' in div['class']:\n",
    "            trip_info['substance'] = div.text\n",
    "        elif 'author' in div['class']:\n",
    "            trip_info['author'] = div.a.text\n",
    "        # Main body or report stored here\n",
    "        elif 'report-text-surround' in div['class']:\n",
    "            report = div\n",
    "\n",
    "trip_info.keys()"
   ]
  },
  {
   "cell_type": "code",
   "execution_count": 73,
   "metadata": {},
   "outputs": [],
   "source": [
    "assert lsd_only[0]['Title'] == trip_info['title']\n",
    "assert lsd_only[0]['Author'] == trip_info['author']\n",
    "assert lsd_only[0]['Substance'] == trip_info['substance']"
   ]
  },
  {
   "cell_type": "markdown",
   "metadata": {},
   "source": [
    "Good, looks like we have the correct review."
   ]
  },
  {
   "cell_type": "code",
   "execution_count": 74,
   "metadata": {},
   "outputs": [
    {
     "data": {
      "text/plain": [
       "4"
      ]
     },
     "execution_count": 74,
     "metadata": {},
     "output_type": "execute_result"
    }
   ],
   "source": [
    "tables = report.find_all('table')\n",
    "len(tables)"
   ]
  },
  {
   "cell_type": "code",
   "execution_count": 75,
   "metadata": {},
   "outputs": [
    {
     "data": {
      "text/plain": [
       "<table align=\"right\" border=\"0\" cellpadding=\"0\" cellspacing=\"0\">\n",
       "<tr><td></td><td width=\"15\"> </td></tr>\n",
       "</table>"
      ]
     },
     "execution_count": 75,
     "metadata": {},
     "output_type": "execute_result"
    }
   ],
   "source": [
    "# First table doesn't seem to have anything\n",
    "tables[0]"
   ]
  },
  {
   "cell_type": "code",
   "execution_count": 76,
   "metadata": {},
   "outputs": [
    {
     "data": {
      "text/plain": [
       "<table border=\"2\" bordercolor=\"#224422\" cellpadding=\"4\" cellspacing=\"0\" class=\"dosechart\">\n",
       "<tr>\n",
       "<td align=\"right\" width=\"90\">DOSE:<br/></td>\n",
       "<td align=\"center\" class=\"dosechart-amount\" width=\"90\">10-15 ug</td>\n",
       "<td align=\"center\" class=\"dosechart-method\">oral</td>\n",
       "<td class=\"dosechart-substance\"><a href=\"/chemicals/lsd/\">LSD</a></td>\n",
       "<td class=\"dosechart-form\"><b>(blotter / tab)</b></td>\n",
       "</tr>\n",
       "</table>"
      ]
     },
     "execution_count": 76,
     "metadata": {},
     "output_type": "execute_result"
    }
   ],
   "source": [
    "# Second table has dose and other info\n",
    "dose_table = tables[1]\n",
    "assert dose_table['class'][0] == 'dosechart'\n",
    "dose_table"
   ]
  },
  {
   "cell_type": "code",
   "execution_count": 77,
   "metadata": {},
   "outputs": [],
   "source": [
    "trip_info['dose_info'] = []\n",
    "\n",
    "# The first cell is \"DOSE:\" so skip that\n",
    "for td in dose_table.find_all('td')[1:]:\n",
    "    trip_info['dose_info'].append(td.text)"
   ]
  },
  {
   "cell_type": "code",
   "execution_count": 78,
   "metadata": {},
   "outputs": [
    {
     "data": {
      "text/plain": [
       "['10-15 ug', 'oral', 'LSD', '(blotter / tab)']"
      ]
     },
     "execution_count": 78,
     "metadata": {},
     "output_type": "execute_result"
    }
   ],
   "source": [
    "trip_info['dose_info']"
   ]
  },
  {
   "cell_type": "code",
   "execution_count": 79,
   "metadata": {},
   "outputs": [
    {
     "data": {
      "text/plain": [
       "<table border=\"2\" bordercolor=\"#444455\" cellpadding=\"4\" cellspacing=\"0\" class=\"bodyweight\">\n",
       "<tr>\n",
       "<td class=\"bodyweight-title\" width=\"110\">BODY WEIGHT:</td>\n",
       "<td class=\"bodyweight-amount\" width=\"80\">180 lb</td>\n",
       "</tr>\n",
       "</table>"
      ]
     },
     "execution_count": 79,
     "metadata": {},
     "output_type": "execute_result"
    }
   ],
   "source": [
    "tables[2]"
   ]
  },
  {
   "cell_type": "code",
   "execution_count": 80,
   "metadata": {},
   "outputs": [],
   "source": [
    "for td in tables[2].find_all('td'):\n",
    "    if 'bodyweight-amount' in td['class']:\n",
    "        trip_info['body_weight'] = td.text"
   ]
  },
  {
   "cell_type": "code",
   "execution_count": 81,
   "metadata": {},
   "outputs": [
    {
     "data": {
      "text/plain": [
       "{'title': 'My Minidose Manifesto',\n",
       " 'substance': 'LSD',\n",
       " 'author': 'Uncle Iroh',\n",
       " 'dose_info': ['10-15 ug', 'oral', 'LSD', '(blotter / tab)'],\n",
       " 'body_weight': '180 lb'}"
      ]
     },
     "execution_count": 81,
     "metadata": {},
     "output_type": "execute_result"
    }
   ],
   "source": [
    "trip_info"
   ]
  },
  {
   "cell_type": "code",
   "execution_count": 82,
   "metadata": {},
   "outputs": [
    {
     "data": {
      "text/plain": [
       "<table border=\"0\" cellpadding=\"5\" cellspacing=\"0\" class=\"footdata\">\n",
       "<tr><td width=\"700\">Exp Year: 2018</td><td width=\"90\">ExpID: 112505</td></tr>\n",
       "<tr><td>Gender: Male</td><td> </td></tr>\n",
       "<tr><td>Age at time of experience: 24</td><td> </td></tr>\n",
       "<tr><td>Published: Oct 26, 2018</td><td>Views: 1,333</td></tr>\n",
       "<tr><td align=\"center\" colspan=\"2\">[ <a href=\"exp.php?ID=112505&amp;format=pdf\" type=\"text/pdf\">View as PDF (for printing)</a> ] [ <a href=\"exp_pdf.php?ID=112505&amp;format=latex\">View as LaTeX (for geeks)</a> ]\n",
       "[ <a href=\"#\" onclick=\"expChangeColors(); return false;\">Switch Colors</a> ]\n",
       "</td></tr>\n",
       "<tr><td colspan=\"2\">LSD (2) : Retrospective / Summary (11), Glowing Experiences (4), Performance Enhancement (50), General (1), Alone (16)</td></tr>\n",
       "<!--  <img src=\"/images/new.gif\" alt=\"May\"> -->\n",
       "</table>"
      ]
     },
     "execution_count": 82,
     "metadata": {},
     "output_type": "execute_result"
    }
   ],
   "source": [
    "tables[3]"
   ]
  },
  {
   "cell_type": "code",
   "execution_count": 108,
   "metadata": {},
   "outputs": [],
   "source": [
    "for i, td in enumerate(tables[3].find_all('td')):\n",
    "    if 'gender' in td.text.lower():\n",
    "        # Capture e.g. Gender: Male\n",
    "        trip_info['gender'] = td.text.split(':')[1].strip()\n",
    "    elif 'age' in td.text.lower():\n",
    "        trip_info['age'] = int(td.text.split(':')[1].strip())\n",
    "    elif 'published' in td.text.lower():\n",
    "        trip_info['date'] = td.text.split(':')[1].strip()\n",
    "    elif 'views' in td.text.lower():\n",
    "        trip_info['views'] = int(td.text.split(':')[1].replace(',', '').strip())"
   ]
  },
  {
   "cell_type": "code",
   "execution_count": 109,
   "metadata": {},
   "outputs": [
    {
     "data": {
      "text/plain": [
       "{'title': 'My Minidose Manifesto',\n",
       " 'substance': 'LSD',\n",
       " 'author': 'Uncle Iroh',\n",
       " 'dose_info': ['10-15 ug', 'oral', 'LSD', '(blotter / tab)'],\n",
       " 'body_weight': '180 lb',\n",
       " 'gender': 'Male',\n",
       " 'age': 24,\n",
       " 'date': 'Oct 26, 2018',\n",
       " 'views': 1333}"
      ]
     },
     "execution_count": 109,
     "metadata": {},
     "output_type": "execute_result"
    }
   ],
   "source": [
    "trip_info"
   ]
  },
  {
   "cell_type": "code",
   "execution_count": 173,
   "metadata": {},
   "outputs": [],
   "source": [
    "for i, elem in enumerate(report):\n",
    "    if isinstance(elem, Comment):\n",
    "        if 'start body' in elem.string.lower():\n",
    "            start_idx = i\n",
    "        elif 'end body' in elem.string.lower():\n",
    "            end_idx = i\n",
    "            break"
   ]
  },
  {
   "cell_type": "code",
   "execution_count": 192,
   "metadata": {},
   "outputs": [
    {
     "data": {
      "text/plain": [
       "['\\nMy Minidose Manifesto\\r',\n",
       " <br/>,\n",
       " '\\n',\n",
       " <br/>,\n",
       " '\\nI would like to preface this report with a note on the terminology of ingesting sub-perceptual doses of LSD. Technically speaking, a psychedelic microdose is a sub-threshold dose of the substance. This would lead one to believe that the effects of said amount would be unperceivable. There seems to be a contradiction here that I wish to resolve. Call me a drug nerd or a word nerd, but if a microdose is defined as sub-perceptual, then perceiving anything from a dose you took disqualifies it as a true microdose. Since my experiences with small amounts of LSD have somehow fallen between the sub-perceptual and threshold realms, I propose the term \\x91minidose.\\x92 It\\x92s lower than a \\x91museum dose,\\x92 (One where effects are apparent beyond threshold levels to the user, but still appropriate for a public experience) but higher than a true microdose. Here\\x92s a more appropriate word for those of us that felt something that wasn\\x92t ']"
      ]
     },
     "execution_count": 192,
     "metadata": {},
     "output_type": "execute_result"
    }
   ],
   "source": [
    "report_text = report.contents[start_idx + 1:end_idx]\n",
    "report_text[:5]"
   ]
  },
  {
   "cell_type": "code",
   "execution_count": 272,
   "metadata": {},
   "outputs": [
    {
     "name": "stdout",
     "output_type": "stream",
     "text": [
      "\n",
      " False\n",
      "<br/> False\n",
      "\n",
      " False\n",
      "<br/> False\n",
      "\n",
      "I would like to preface this report with a note on the terminology of ingesting sub-perceptual doses of LSD. Technically speaking, a psychedelic microdose is a sub-threshold dose of the substance. This would lead one to believe that the effects of said amount would be unperceivable. There seems to be a contradiction here that I wish to resolve. Call me a drug nerd or a word nerd, but if a microdose is defined as sub-perceptual, then perceiving anything from a dose you took disqualifies it as a true microdose. Since my experiences with small amounts of LSD have somehow fallen between the sub-perceptual and threshold realms, I propose the term minidose. Its lower than a museum dose, (One where effects are apparent beyond threshold levels to the user, but still appropriate for a public experience) but higher than a true microdose. Heres a more appropriate word for those of us that felt something that wasnt  False\n",
      "<i>nothing</i> True\n",
      ", but nothing about it was really  False\n",
      "<i>something</i> True\n",
      " False\n",
      "<br/> False\n"
     ]
    }
   ],
   "source": [
    "for i in range(10):\n",
    "    print(report_text[i], report_text[i].name == 'i')"
   ]
  },
  {
   "cell_type": "code",
   "execution_count": 276,
   "metadata": {},
   "outputs": [
    {
     "name": "stdout",
     "output_type": "stream",
     "text": [
      "<i>nothing</i>\n",
      "<i>something</i>\n"
     ]
    }
   ],
   "source": [
    "# After much Googling, seems text has been decoded in latin1\n",
    "# See https://stackoverflow.com/questions/45292526/how-do-i-convert-unicode-string-with-cp1252-characters-into-utf-8-with-python\n",
    "texts = []\n",
    "for elem in report_text:\n",
    "    if isinstance(elem, NavigableString):\n",
    "        texts.append(elem.encode('latin1').decode('cp1252'))\n",
    "    elif isinstance(elem, Tag) and elem.name == 'i':\n",
    "        texts.append(elem.string.encode('latin1').decode('cp1252'))"
   ]
  },
  {
   "cell_type": "code",
   "execution_count": 283,
   "metadata": {},
   "outputs": [],
   "source": [
    "text = \"\"\n",
    "for elem in texts:\n",
    "    text += elem"
   ]
  },
  {
   "cell_type": "code",
   "execution_count": 284,
   "metadata": {},
   "outputs": [
    {
     "name": "stdout",
     "output_type": "stream",
     "text": [
      "\n",
      "My Minidose Manifesto\n",
      "\n",
      "I would like to preface this report with a note on the terminology of ingesting sub-perceptual doses of LSD. Technically speaking, a psychedelic microdose is a sub-threshold dose of the substance. This would lead one to believe that the effects of said amount would be unperceivable. There seems to be a contradiction here that I wish to resolve. Call me a drug nerd or a word nerd, but if a microdose is defined as sub-perceptual, then perceiving anything from a dose you took disqualifies it as a true microdose. Since my experiences with small amounts of LSD have somehow fallen between the sub-perceptual and threshold realms, I propose the term ‘minidose.’ It’s lower than a ‘museum dose,’ (One where effects are apparent beyond threshold levels to the user, but still appropriate for a public experience) but higher than a true microdose. Here’s a more appropriate word for those of us that felt something that wasn’t nothing, but nothing about it was really something, ya dig? Okay, report time!\n",
      "\n",
      "\n",
      "This report is a hallmark example of an LSD minidose gone right. I have ingested LSD and numerous other substances in quantities that yielded experiences ranging from mild amusement to intense visual & mental effects. However, it has been only in the past 12 months that I have begun to experiment with the practice of LSD minidosing. Each month, I pick a couple days to ingest a minidose. These experiences were chosen arbitrarily, but were always at least a week away from experiences with any other psychedelic so as to avoid tolerance influences. Since each batch of blotter I have obtained tends to contain a different dosage, it takes a little dialing in to determine the ‘sweet spot’ size to slice. If I’m being completely honest here, I did not use a ruler. I eyeballed it. There’s definitely a way to be more scientific about measuring your minidose, but I like to live a bit on the wild side when the stakes are this low. Furthermore, I prefer to cut each according to what my effects were from the previous minidose ‘session.’ This way, I can make a larger/smaller cut adjustment as opposed to having pre-cut pieces that weren’t quite the size I preferred. The blotter I cut it from is a square centimeter, and the sliver my blade yielded is just shy of a milligram. For a reference of dose, I am forced to speculate. These tabs are about 125 micrograms each, so my portion was about 10.42 micrograms. It is cut from the same piece of blotter paper, and I attempt to achieve a 1/12th cut for each. It should be noted here that everyone reacts differently to drugs. I have personally found that about a 1/12th slice of these particular blotters provides the desired effects for me as a minidose.\n",
      "\n",
      "Most of my minidose days were work days (I work from home), but there were a couple weekend days in there as well. I found that the effects didn’t tend to vary significantly between these settings. For the purposes of narrative consistency and readability, I have selected a day where I felt my notes best represented the most common effects felt across the span of my minidosing experiences. Here’s the scoop:\n",
      "\n",
      "7 August 2018\n",
      "10:00 AM – I pop the estimated sliver of LSD into my mouth (1/12th of a blotter). Besides a glass of water, this has been my only intake of the day thus far. \n",
      "\n",
      "Another comment I feel is worth mentioning: I invariably feel a bit anxious prior to taking any psychedelic substance. I do not experience fear; it’s more of an apprehensive hesitation that is present despite my knowledge of the safety and the success of my past experience. Yet, I do not view this as a negative thing. Rather, I prefer to view it as a symptom of my healthy level of respect for the power of the substance.\n",
      "\n",
      "10:55 AM (T 0:55) I enjoy a breakfast smoothie of fruit & veggies, a cup of darjeeling tea, and bacon. This is a standard breakfast for me. Aha! I notice effects setting in. There appears a very mild confusion from change of mental state: slight difficulty tracking tasks, I am more easily distracted, and my attention tilts inward towards my thoughts and physical senses during this period of transition.  This passes within 10 minutes, and I break through to ‘The Flow.’ \n",
      "\n",
      "The Flow is an ease of passing from one task to the other without the presence of the ordinary hesitations/stuckness I must overcome to start the next task. For example, I’ve set a goal to do a set of 10 pushups every 2 hours during work. Yesterday I didn’t even try. I thought about it, but other things seemed more important to me and I got distracted. Even though I knew it would take maybe 3 minutes of my time, the mental activation energy required to initiate such a task was not reached. Today the pushups are not only achieved but also done so with enjoyment and almost excitement to have completed the task. Being in The Flow means increased decisiveness, stamina, and focus, though it is not forceful. It is like floating a river in a kayak instead of a raft.\n",
      "\n",
      "11:13 AM (T 1:13) I notice the classic ‘electricity’ feeling of the substance in the crown region of my skull. This is a familiar sensation I get from LSD that feels like a mildly metallic energy. It’s not a shock per se, but similar to the sensation you get when a very weak 9-Volt battery touches your tongue. It’s not distracting or intrusive; more like a tickle.\n",
      "\n",
      "11:38 AM (T 1:38) I have fluid conversations with my boss and clients without perceivable drawbacks. My assessment of my body’s energy level is equivalent to a full cup of dark coffee, but without the side effects of jitters and sweaty armpits. This kind of energy is different than any stimulant I’ve tried. To me, stimulants feel like I’m pushing a ‘go’ button in my brain & body and force my heart rate up. They rev my internal engine. In contrast, minidosing is more of a carrot than a stick. I look forward to the experiences and inherent rewards that task completion brings with fresh perspective and confidence in my natural stamina.\n",
      "\n",
      "12:13 PM (T 2:13) I find that I’m able to make more conscious decisions as to how I react to stressful work scenarios. In moments where I would usually get worked up, I’m noticing a more moderated, slightly detached approach to finding solutions. Upon reflection, my detachment seemed to be of my critical thinking part of my consciousness from my more limbic, emotional side. This recognition of the influence my visceral urges have on my thoughts and actions empowers me to maintain an elevated, more consistent level of overall mindfulness.\n",
      "\n",
      "1:10 PM (T 3:10) I notice an increased propensity towards making my actions more efficient and swift. This is seemingly driven by sheer novelty, as opposed to a ‘speedy’ or caffeinated urgency. Repetitive tasks typically bore me and cause ‘pop-out’ moments where I lose focus or make stupid mistakes due to a lack of engagement. When minidosing, I find the little things that I normally overlook to be objects of manipulation. For example, rather than going about my normal keystrokes and clicks, I treat the task like a race or production line and attempt to modify my process to increase efficiency. Cool stuff!\n",
      "\n",
      "1:40 PM (T 3:40) I make time to eat lunch. It’s a busy day, but I don’t feel overwhelmed. I eat a fried rice bowl and turkey sandwich. Food tastes good, as is normal. I do not experience a reduction in appetite as I often do on higher doses of LSD.\n",
      "\n",
      "2:39 PM (T 4:39) I just noticed something that has been going on for a few hours now: a mild increase in my vision’s color saturation. This is nothing super hallucinatory by any means, but was enough for me to take that second appreciative glance at the way my lamp illuminated the sundries on my desk. Their hues seemed to have an extra degree of purity. In the past, on larger doses, I have had the pleasure of perceiving a much larger spectrum of colors than I ordinarily do while sober (I’m red/green colorblind). It’s difficult to discern whether this was due to a legitimate change in my perceptual abilities or a shift in my psychological appreciation for colors in general. If I had to venture a guess, I would say the latter is more likely. During this minidose, the value of colors was not influenced in any remarkable way, which makes sense physiologically because my pupils did not dilate. I did not have closed eye visuals at any point during this experience.\n",
      "\n",
      "4:30 PM (T 6:30) It’s safe to say I’ve plateaued in effects.  Things have been about the same since my last notes.\n",
      "\n",
      "5:43 PM (T 7:43) The day’s tasks are completed without the typical post-lunch lull in productivity. I find myself working past the optional quitting time out of the desire to make tomorrow less strenuous. This is atypical of me. I still feel a solid energy boost, namely in my head and hands. The nature of this energy is curious… it feels visceral but does not seem to be originating from the places I’m feeling it. The point of origin is my mind, not my body. I feel a nonspecific inspiration, and it is then manifested as a sort of mild electric buzzing in my cranium and fingers (direction of energy from the mind to the body). In contrast, stimulants feel to me like my body parts themselves are requesting tasks from my mind so they can occupy themselves with actions, such as dancing (direction of energy from the body to the mind).\n",
      "\n",
      "6:45 PM (T 8:45) I begin a workout consisting of weight training with brief cardio warmup/cooldown.\n",
      "\n",
      "7:50 PM (T 9:50) Today’s workout is completed with an ordinary level of endurance and strength. By this time, noticeable energetic effects of the substance have dwindled and I feel closer to baseline.\n",
      "\n",
      "8:45 PM (T 10:45) Conversation with a new friend is fruitful and engaging. I have a calm and mindful demeanor during this interaction, and favor listening and brevity over my more discursive tendencies. I would call this change the chief symptom of the minidose’s afterglow effects.\n",
      "\n",
      "11:55 PM (T 13:55) Time has passed quickly, as it tends to in good company. My partner Lace has returned home, and we retire. Sleep comes easily, and is sound.\n",
      "\n",
      "Reflections: I awoke the next morning feeling well-rested, back to baseline sobriety, and ready to take on the day. I did not detect any aftereffects (positive or negative) of my experience from the day before. The weekend after this experience (4 days later), I indulged in a larger dose of LSD with recreational intentions and did not recognize any semblance of tolerance.\n",
      "\n",
      "It’s worth noting that in the process of ‘dialing in’ my sliver size there were days when The Flow was less prevalent and days when I inadvertently pushed the envelope past minidose and into mild psychedelia. Comes with the territory, I suppose.\n",
      "\n",
      "Overall, I have found this application of LSD to yield consistently positive results. The increased agency of my critical thinking (empowered, I think, by its slight separation from/recognition of my more visceral urges) proved to be helpful in many areas such as my perceptions of mood, energy, creativity, motivation, and overall mindfulness.\n"
     ]
    }
   ],
   "source": [
    "print(text)"
   ]
  },
  {
   "cell_type": "code",
   "execution_count": 314,
   "metadata": {},
   "outputs": [],
   "source": [
    "trip_info['text'] = text"
   ]
  },
  {
   "cell_type": "code",
   "execution_count": 321,
   "metadata": {},
   "outputs": [],
   "source": [
    "with open('./cleaned_texts/112505.txt', 'w') as fhand:\n",
    "    fhand.write(text)"
   ]
  },
  {
   "cell_type": "code",
   "execution_count": 317,
   "metadata": {},
   "outputs": [
    {
     "data": {
      "text/html": [
       "<div>\n",
       "<style scoped>\n",
       "    .dataframe tbody tr th:only-of-type {\n",
       "        vertical-align: middle;\n",
       "    }\n",
       "\n",
       "    .dataframe tbody tr th {\n",
       "        vertical-align: top;\n",
       "    }\n",
       "\n",
       "    .dataframe thead th {\n",
       "        text-align: right;\n",
       "    }\n",
       "</style>\n",
       "<table border=\"1\" class=\"dataframe\">\n",
       "  <thead>\n",
       "    <tr style=\"text-align: right;\">\n",
       "      <th></th>\n",
       "      <th>title</th>\n",
       "      <th>substance</th>\n",
       "      <th>author</th>\n",
       "      <th>dose_info</th>\n",
       "      <th>body_weight</th>\n",
       "      <th>gender</th>\n",
       "      <th>age</th>\n",
       "      <th>date</th>\n",
       "      <th>views</th>\n",
       "      <th>text</th>\n",
       "    </tr>\n",
       "  </thead>\n",
       "  <tbody>\n",
       "    <tr>\n",
       "      <th>0</th>\n",
       "      <td>My Minidose Manifesto</td>\n",
       "      <td>LSD</td>\n",
       "      <td>Uncle Iroh</td>\n",
       "      <td>10-15 ug</td>\n",
       "      <td>180 lb</td>\n",
       "      <td>Male</td>\n",
       "      <td>24</td>\n",
       "      <td>Oct 26, 2018</td>\n",
       "      <td>1333</td>\n",
       "      <td>\\nMy Minidose Manifesto\\r\\n\\nI would like to p...</td>\n",
       "    </tr>\n",
       "    <tr>\n",
       "      <th>1</th>\n",
       "      <td>My Minidose Manifesto</td>\n",
       "      <td>LSD</td>\n",
       "      <td>Uncle Iroh</td>\n",
       "      <td>oral</td>\n",
       "      <td>180 lb</td>\n",
       "      <td>Male</td>\n",
       "      <td>24</td>\n",
       "      <td>Oct 26, 2018</td>\n",
       "      <td>1333</td>\n",
       "      <td>\\nMy Minidose Manifesto\\r\\n\\nI would like to p...</td>\n",
       "    </tr>\n",
       "    <tr>\n",
       "      <th>2</th>\n",
       "      <td>My Minidose Manifesto</td>\n",
       "      <td>LSD</td>\n",
       "      <td>Uncle Iroh</td>\n",
       "      <td>LSD</td>\n",
       "      <td>180 lb</td>\n",
       "      <td>Male</td>\n",
       "      <td>24</td>\n",
       "      <td>Oct 26, 2018</td>\n",
       "      <td>1333</td>\n",
       "      <td>\\nMy Minidose Manifesto\\r\\n\\nI would like to p...</td>\n",
       "    </tr>\n",
       "    <tr>\n",
       "      <th>3</th>\n",
       "      <td>My Minidose Manifesto</td>\n",
       "      <td>LSD</td>\n",
       "      <td>Uncle Iroh</td>\n",
       "      <td>(blotter / tab)</td>\n",
       "      <td>180 lb</td>\n",
       "      <td>Male</td>\n",
       "      <td>24</td>\n",
       "      <td>Oct 26, 2018</td>\n",
       "      <td>1333</td>\n",
       "      <td>\\nMy Minidose Manifesto\\r\\n\\nI would like to p...</td>\n",
       "    </tr>\n",
       "  </tbody>\n",
       "</table>\n",
       "</div>"
      ],
      "text/plain": [
       "                   title substance      author        dose_info body_weight  \\\n",
       "0  My Minidose Manifesto       LSD  Uncle Iroh         10-15 ug      180 lb   \n",
       "1  My Minidose Manifesto       LSD  Uncle Iroh             oral      180 lb   \n",
       "2  My Minidose Manifesto       LSD  Uncle Iroh              LSD      180 lb   \n",
       "3  My Minidose Manifesto       LSD  Uncle Iroh  (blotter / tab)      180 lb   \n",
       "\n",
       "  gender  age          date  views  \\\n",
       "0   Male   24  Oct 26, 2018   1333   \n",
       "1   Male   24  Oct 26, 2018   1333   \n",
       "2   Male   24  Oct 26, 2018   1333   \n",
       "3   Male   24  Oct 26, 2018   1333   \n",
       "\n",
       "                                                text  \n",
       "0  \\nMy Minidose Manifesto\\r\\n\\nI would like to p...  \n",
       "1  \\nMy Minidose Manifesto\\r\\n\\nI would like to p...  \n",
       "2  \\nMy Minidose Manifesto\\r\\n\\nI would like to p...  \n",
       "3  \\nMy Minidose Manifesto\\r\\n\\nI would like to p...  "
      ]
     },
     "execution_count": 317,
     "metadata": {},
     "output_type": "execute_result"
    }
   ],
   "source": [
    "trip_df = pd.DataFrame(trip_info)\n",
    "trip_df.head()"
   ]
  }
 ],
 "metadata": {
  "kernelspec": {
   "display_name": "Python 3",
   "language": "python",
   "name": "python3"
  },
  "language_info": {
   "codemirror_mode": {
    "name": "ipython",
    "version": 3
   },
   "file_extension": ".py",
   "mimetype": "text/x-python",
   "name": "python",
   "nbconvert_exporter": "python",
   "pygments_lexer": "ipython3",
   "version": "3.7.1"
  }
 },
 "nbformat": 4,
 "nbformat_minor": 2
}
