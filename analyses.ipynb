{
 "cells": [
  {
   "cell_type": "markdown",
   "metadata": {},
   "source": [
    "# Some simple analyses of the data\n",
    "First we'll read in the reviews and see how many have been submitted over time"
   ]
  },
  {
   "cell_type": "code",
   "execution_count": 8,
   "metadata": {},
   "outputs": [],
   "source": [
    "import pandas as pd\n",
    "\n",
    "df = pd.read_csv('artefacts/lsd_metadata.csv', parse_dates=['Pub Date'])"
   ]
  },
  {
   "cell_type": "code",
   "execution_count": 19,
   "metadata": {},
   "outputs": [
    {
     "data": {
      "text/plain": [
       "(437, 8)"
      ]
     },
     "execution_count": 19,
     "metadata": {},
     "output_type": "execute_result"
    }
   ],
   "source": [
    "df.shape"
   ]
  },
  {
   "cell_type": "code",
   "execution_count": 14,
   "metadata": {},
   "outputs": [],
   "source": [
    "df['year'] = df['Pub Date'].apply(lambda x: x.year)\n",
    "df['month'] = df['Pub Date'].apply(lambda x: x.month)"
   ]
  },
  {
   "cell_type": "code",
   "execution_count": 15,
   "metadata": {},
   "outputs": [
    {
     "data": {
      "text/html": [
       "<div>\n",
       "<style scoped>\n",
       "    .dataframe tbody tr th:only-of-type {\n",
       "        vertical-align: middle;\n",
       "    }\n",
       "\n",
       "    .dataframe tbody tr th {\n",
       "        vertical-align: top;\n",
       "    }\n",
       "\n",
       "    .dataframe thead th {\n",
       "        text-align: right;\n",
       "    }\n",
       "</style>\n",
       "<table border=\"1\" class=\"dataframe\">\n",
       "  <thead>\n",
       "    <tr style=\"text-align: right;\">\n",
       "      <th></th>\n",
       "      <th>Author</th>\n",
       "      <th>Pub Date</th>\n",
       "      <th>Rating</th>\n",
       "      <th>Substance</th>\n",
       "      <th>Title</th>\n",
       "      <th>href</th>\n",
       "      <th>year</th>\n",
       "      <th>month</th>\n",
       "    </tr>\n",
       "  </thead>\n",
       "  <tbody>\n",
       "    <tr>\n",
       "      <th>0</th>\n",
       "      <td>Spooky</td>\n",
       "      <td>2016-04-19</td>\n",
       "      <td>Highly Recommended</td>\n",
       "      <td>LSD</td>\n",
       "      <td>Physics at the Edge of the Universe</td>\n",
       "      <td>exp.php?ID=69866</td>\n",
       "      <td>2016</td>\n",
       "      <td>4</td>\n",
       "    </tr>\n",
       "    <tr>\n",
       "      <th>1</th>\n",
       "      <td>Lokapalas</td>\n",
       "      <td>2013-11-28</td>\n",
       "      <td>Highly Recommended</td>\n",
       "      <td>LSD</td>\n",
       "      <td>Somatic Vision and Cosmic Consciousness</td>\n",
       "      <td>exp.php?ID=77462</td>\n",
       "      <td>2013</td>\n",
       "      <td>11</td>\n",
       "    </tr>\n",
       "    <tr>\n",
       "      <th>2</th>\n",
       "      <td>Gwern.net</td>\n",
       "      <td>2013-10-23</td>\n",
       "      <td>Highly Recommended</td>\n",
       "      <td>LSD</td>\n",
       "      <td>LSD Microdosing RCT</td>\n",
       "      <td>exp.php?ID=101638</td>\n",
       "      <td>2013</td>\n",
       "      <td>10</td>\n",
       "    </tr>\n",
       "    <tr>\n",
       "      <th>3</th>\n",
       "      <td>triptacular</td>\n",
       "      <td>2012-12-04</td>\n",
       "      <td>Highly Recommended</td>\n",
       "      <td>LSD</td>\n",
       "      <td>It Can Be Whatever I Want It to Be</td>\n",
       "      <td>exp.php?ID=88486</td>\n",
       "      <td>2012</td>\n",
       "      <td>12</td>\n",
       "    </tr>\n",
       "    <tr>\n",
       "      <th>4</th>\n",
       "      <td>Noname12</td>\n",
       "      <td>2012-09-26</td>\n",
       "      <td>Highly Recommended</td>\n",
       "      <td>LSD</td>\n",
       "      <td>Arrested</td>\n",
       "      <td>exp.php?ID=76778</td>\n",
       "      <td>2012</td>\n",
       "      <td>9</td>\n",
       "    </tr>\n",
       "  </tbody>\n",
       "</table>\n",
       "</div>"
      ],
      "text/plain": [
       "        Author   Pub Date              Rating Substance  \\\n",
       "0       Spooky 2016-04-19  Highly Recommended       LSD   \n",
       "1    Lokapalas 2013-11-28  Highly Recommended       LSD   \n",
       "2    Gwern.net 2013-10-23  Highly Recommended       LSD   \n",
       "3  triptacular 2012-12-04  Highly Recommended       LSD   \n",
       "4     Noname12 2012-09-26  Highly Recommended       LSD   \n",
       "\n",
       "                                     Title               href  year  month  \n",
       "0      Physics at the Edge of the Universe   exp.php?ID=69866  2016      4  \n",
       "1  Somatic Vision and Cosmic Consciousness   exp.php?ID=77462  2013     11  \n",
       "2                      LSD Microdosing RCT  exp.php?ID=101638  2013     10  \n",
       "3       It Can Be Whatever I Want It to Be   exp.php?ID=88486  2012     12  \n",
       "4                                 Arrested   exp.php?ID=76778  2012      9  "
      ]
     },
     "execution_count": 15,
     "metadata": {},
     "output_type": "execute_result"
    }
   ],
   "source": [
    "df.head()"
   ]
  },
  {
   "cell_type": "code",
   "execution_count": 21,
   "metadata": {},
   "outputs": [],
   "source": [
    "reviews_counts = df.groupby('year').count()['Substance']"
   ]
  },
  {
   "cell_type": "code",
   "execution_count": 24,
   "metadata": {},
   "outputs": [
    {
     "data": {
      "image/png": "[encoded data removed]",
      "text/plain": [
       "<Figure size 432x288 with 1 Axes>"
      ]
     },
     "metadata": {},
     "output_type": "display_data"
    }
   ],
   "source": [
    "reviews_counts.plot(kind='bar');"
   ]
  },
  {
   "cell_type": "markdown",
   "metadata": {},
   "source": [
    "No idea what to make of the huge spike in 2018. I think it's highly unlikely to incidate an explosive growth of LSD use or popularity in the past year. It probably *does* mean that any temporal analysis of numbers of experience reviews are not relibale."
   ]
  }
 ],
 "metadata": {
  "kernelspec": {
   "display_name": "Python 3",
   "language": "python",
   "name": "python3"
  },
  "language_info": {
   "codemirror_mode": {
    "name": "ipython",
    "version": 3
   },
   "file_extension": ".py",
   "mimetype": "text/x-python",
   "name": "python",
   "nbconvert_exporter": "python",
   "pygments_lexer": "ipython3",
   "version": "3.7.1"
  }
 },
 "nbformat": 4,
 "nbformat_minor": 2
}
